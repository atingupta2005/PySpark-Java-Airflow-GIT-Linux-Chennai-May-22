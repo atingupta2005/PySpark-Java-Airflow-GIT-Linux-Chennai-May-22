{
 "cells": [
  {
   "cell_type": "code",
   "execution_count": null,
   "id": "98dfff47-32d7-466e-95d4-d72d6054001c",
   "metadata": {},
   "outputs": [],
   "source": [
    "from datetime import timedelta\n",
    "import airflow\n",
    "from airflow import DAG\n",
    "from airflow.operators.bash_operator import BashOperator"
   ]
  },
  {
   "cell_type": "code",
   "execution_count": null,
   "id": "9f4efa2a-91de-4774-bfbf-236ce4e3a42f",
   "metadata": {},
   "outputs": [],
   "source": [
    "default_args = {\n",
    "'owner': 'airflow',\n",
    "' start_date ': airflow.utils.dates.days_ago (2),\n",
    "' depends_on_past ': False,\n",
    "'email': ['airflow@example.com'],\n",
    "' email_on_failure ': False,\n",
    "' email_on_retry ': False,\n",
    "# If a task fails, retry it once after waiting at least 5 minutes\n",
    "'retries': 1,\n",
    "' retry_delay ': timedelta (minutes=5),\n",
    "}\n"
   ]
  },
  {
   "cell_type": "code",
   "execution_count": null,
   "id": "0ae04261-f41a-4f3a-80f7-5116db1be2ac",
   "metadata": {},
   "outputs": [],
   "source": [
    "dag = DAG(\n",
    "'dag -sample',\n",
    "default_args = default_args ,\n",
    "description='A simple tutorial DAG',\n",
    "# Continue to run DAG once per day\n",
    "schedule_interval = timedelta (days=1),\n",
    ")\n"
   ]
  },
  {
   "cell_type": "code",
   "execution_count": null,
   "id": "e77cbb53-1404-4608-a5f5-3086d107fb00",
   "metadata": {},
   "outputs": [],
   "source": [
    "# t1, t2 and t3 are examples of tasks created by instantiating operators\n",
    "t1 = BashOperator ( task_id =' print_date ’, bash_command ='date’, dag = dag ,)\n",
    "t2 = BashOperator ( task_id ='sleep’, depends_on_past =False, bash_command ='sleep 5', dag = dag ,)\n",
    "templated_command = \"\"\"\n",
    "{% for i in range(5) %}\n",
    "echo \"{{ ds }}\"\n",
    "echo \"{{ macros.ds_add (ds, 7)}}\"\n",
    "echo \"{{ params.my_param }}\"\n",
    "{% endfor %}\n",
    "\"\"\"\n",
    "t3 = BashOperator ( task_id ='templated', depends_on_past =False, bash_command = templated_command , params={' my_param ': 'Parameter I passed in'}, dag = dag ,)\n"
   ]
  },
  {
   "cell_type": "code",
   "execution_count": null,
   "id": "16063125-1c75-45e5-bcbf-1ed6bf82c5bd",
   "metadata": {},
   "outputs": [],
   "source": [
    "t1 >> t2\n",
    "t2 << t1\n",
    "t1.set_downstream([t2, t3])\n",
    "t1 >> [t2, t3]\n",
    "[t2, t3] << t1\n",
    "# t2 will depend on t1\n",
    "t1.set_downstream(t2)\n",
    "# t3 will depend on t1\n",
    "t3.set_upstream(t1)\n"
   ]
  },
  {
   "cell_type": "code",
   "execution_count": null,
   "id": "427063aa-5e68-4018-849d-5d0ee0205236",
   "metadata": {},
   "outputs": [],
   "source": []
  }
 ],
 "metadata": {
  "kernelspec": {
   "display_name": "Python 3 (ipykernel)",
   "language": "python",
   "name": "python3"
  },
  "language_info": {
   "codemirror_mode": {
    "name": "ipython",
    "version": 3
   },
   "file_extension": ".py",
   "mimetype": "text/x-python",
   "name": "python",
   "nbconvert_exporter": "python",
   "pygments_lexer": "ipython3",
   "version": "3.9.7"
  }
 },
 "nbformat": 4,
 "nbformat_minor": 5
}
